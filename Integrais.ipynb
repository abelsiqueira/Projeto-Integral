{
 "cells": [
  {
   "cell_type": "code",
   "execution_count": 12,
   "metadata": {},
   "outputs": [
    {
     "data": {
      "text/plain": [
       "Plots.GRBackend()"
      ]
     },
     "execution_count": 12,
     "metadata": {},
     "output_type": "execute_result"
    }
   ],
   "source": [
    "using Plots\n",
    "gr(size=(400,300))"
   ]
  },
  {
   "cell_type": "code",
   "execution_count": 13,
   "metadata": {},
   "outputs": [
    {
     "data": {
      "text/plain": [
       "trapezio (generic function with 1 method)"
      ]
     },
     "execution_count": 13,
     "metadata": {},
     "output_type": "execute_result"
    }
   ],
   "source": [
    "function trapezio(f, a, b, c, d)\n",
    "    i = (a + b) / 2\n",
    "    j = (c + d) / 2\n",
    "    k = ((b - a) * (d - c)) / 16\n",
    "    I = (f(a,c) + f(a,d) + f(b,c) + f(b,d) + 2 * (f(i,c) + f(i,d) + f(a,j) + f(b,j)) + 4 * f(i,j))\n",
    "    return k * I\n",
    "end"
   ]
  },
  {
   "cell_type": "code",
   "execution_count": 14,
   "metadata": {},
   "outputs": [
    {
     "data": {
      "text/plain": [
       "Simpson (generic function with 1 method)"
      ]
     },
     "execution_count": 14,
     "metadata": {},
     "output_type": "execute_result"
    }
   ],
   "source": [
    "function Simpson(f, a, b, c, d, n, m)\n",
    "    h = (b - a) / n\n",
    "    k = (d - c) / m\n",
    "    S = 0.0\n",
    "    for i = 0:n\n",
    "        if i == 0 || i == n\n",
    "            α = 1\n",
    "        elseif mod(i,2) == 0\n",
    "            α = 2\n",
    "        else\n",
    "            α = 4\n",
    "        end\n",
    "        for j = 0:m\n",
    "            if j == 0 || j == m\n",
    "                δ = 1\n",
    "            elseif mod(j,2) == 0\n",
    "                δ = 2\n",
    "            else\n",
    "                δ = 4\n",
    "            end\n",
    "        xi = a + i * h\n",
    "        yj = c + j * k\n",
    "        S = S + (α * δ * f(xi, yj))\n",
    "        end\n",
    "    end\n",
    "    I = ((h * k) / 9) * S\n",
    "    return I\n",
    "end"
   ]
  },
  {
   "cell_type": "code",
   "execution_count": 5,
   "metadata": {},
   "outputs": [
    {
     "data": {
      "text/plain": [
       "-12.0"
      ]
     },
     "execution_count": 5,
     "metadata": {},
     "output_type": "execute_result"
    }
   ],
   "source": [
    "f(x,y) = x - (3 * y^2)\n",
    "Simpson(f, 0.0,2.0, 1.0, 2.0, 2, 2)"
   ]
  },
  {
   "cell_type": "code",
   "execution_count": 7,
   "metadata": {},
   "outputs": [
    {
     "ename": "LoadError",
     "evalue": "\u001b[91mUndefVarError: ln not defined\u001b[39m",
     "output_type": "error",
     "traceback": [
      "\u001b[91mUndefVarError: ln not defined\u001b[39m",
      "",
      "Stacktrace:",
      " [1] \u001b[1mSimpson\u001b[22m\u001b[22m\u001b[1m(\u001b[22m\u001b[22m::#f, ::Float64, ::Float64, ::Float64, ::Float64, ::Int64, ::Int64\u001b[1m)\u001b[22m\u001b[22m at \u001b[1m.\\In[3]:23\u001b[22m\u001b[22m"
     ]
    }
   ],
   "source": [
    "f(x,y) = ln(x + 2 * y)\n",
    "Simpson(f, 1.4, 2.0, 1.0, 1.5, 2, 4)"
   ]
  },
  {
   "cell_type": "code",
   "execution_count": 8,
   "metadata": {},
   "outputs": [
    {
     "data": {
      "text/plain": [
       "0.31157333333333315"
      ]
     },
     "execution_count": 8,
     "metadata": {},
     "output_type": "execute_result"
    }
   ],
   "source": [
    "f(x, y) = x * y^2\n",
    "Simpson(f, 2.1, 2.5, 1.2, 1.4, 4, 4)"
   ]
  },
  {
   "cell_type": "code",
   "execution_count": 9,
   "metadata": {},
   "outputs": [
    {
     "data": {
      "text/plain": [
       "0.25525262154254025"
      ]
     },
     "execution_count": 9,
     "metadata": {},
     "output_type": "execute_result"
    }
   ],
   "source": [
    "f(x, y) = e^(y -x)\n",
    "Simpson(f, 0, 0.5, 0, 0.5, 4, 4)"
   ]
  },
  {
   "cell_type": "code",
   "execution_count": 18,
   "metadata": {},
   "outputs": [
    {
     "data": {
      "text/plain": [
       "-22.616118232523363"
      ]
     },
     "execution_count": 18,
     "metadata": {},
     "output_type": "execute_result"
    }
   ],
   "source": [
    "f(x, y) = (y * sin(x) + x * cos(y))\n",
    "Simpson(f, -π, 3*π/2, 0.0, 2*π, 4, 4)"
   ]
  }
 ],
 "metadata": {
  "kernelspec": {
   "display_name": "Julia 0.6.4",
   "language": "julia",
   "name": "julia-0.6"
  },
  "language_info": {
   "file_extension": ".jl",
   "mimetype": "application/julia",
   "name": "julia",
   "version": "0.6.4"
  }
 },
 "nbformat": 4,
 "nbformat_minor": 2
}
